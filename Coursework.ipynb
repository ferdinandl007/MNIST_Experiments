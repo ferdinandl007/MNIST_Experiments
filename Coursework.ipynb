{
  "nbformat": 4,
  "nbformat_minor": 0,
  "metadata": {
    "colab": {
      "name": "Coursework.ipynb",
      "provenance": [],
      "include_colab_link": true
    },
    "kernelspec": {
      "name": "python3",
      "display_name": "Python 3"
    },
    "accelerator": "GPU"
  },
  "cells": [
    {
      "cell_type": "markdown",
      "metadata": {
        "id": "view-in-github",
        "colab_type": "text"
      },
      "source": [
        "<a href=\"https://colab.research.google.com/github/ferdinandl007/MNIST_Experiments/blob/master/Coursework.ipynb\" target=\"_parent\"><img src=\"https://colab.research.google.com/assets/colab-badge.svg\" alt=\"Open In Colab\"/></a>"
      ]
    },
    {
      "cell_type": "code",
      "metadata": {
        "id": "zE6VIlxUthge",
        "colab_type": "code",
        "colab": {}
      },
      "source": [
        "\n",
        "import keras\n",
        "from keras.datasets import mnist\n",
        "\n",
        "(x_train, y_train), (x_test, y_test) = mnist.load_data()"
      ],
      "execution_count": 0,
      "outputs": []
    },
    {
      "cell_type": "code",
      "metadata": {
        "id": "p6wYgUDStlFG",
        "colab_type": "code",
        "outputId": "96bc8a1e-01f3-49db-9afd-94952500a59d",
        "colab": {
          "base_uri": "https://localhost:8080/",
          "height": 51
        }
      },
      "source": [
        "print(\"Training data shape: \", x_train.shape) # (60000, 28, 28) -- 60000 images, each 28x28 pixels\n",
        "print(\"Test data shape\", x_test.shape) # (10000, 28, 28) -- 10000 images, each 28x28\n",
        "\n",
        "# Flatten the images\n",
        "image_vector_size = 28*28\n",
        "x_train = x_train.reshape(x_train.shape[0], image_vector_size)\n",
        "x_test = x_test.reshape(x_test.shape[0], image_vector_size)\n"
      ],
      "execution_count": 0,
      "outputs": [
        {
          "output_type": "stream",
          "text": [
            "Training data shape:  (60000, 28, 28)\n",
            "Test data shape (10000, 28, 28)\n"
          ],
          "name": "stdout"
        }
      ]
    },
    {
      "cell_type": "code",
      "metadata": {
        "id": "8WZ_7Lu_tqX4",
        "colab_type": "code",
        "outputId": "a1b2ccd5-de3e-4029-a0b0-00344740ebb6",
        "colab": {
          "base_uri": "https://localhost:8080/",
          "height": 119
        }
      },
      "source": [
        "# Convert to \"one-hot\" vectors using the to_categorical function\n",
        "num_classes = 10\n",
        "y_train = keras.utils.to_categorical(y_train, num_classes)\n",
        "y_test = keras.utils.to_categorical(y_test, num_classes)\n",
        "print(\"First 5 training lables as one-hot encoded vectors:\\n\", y_train[:5])"
      ],
      "execution_count": 0,
      "outputs": [
        {
          "output_type": "stream",
          "text": [
            "First 5 training lables as one-hot encoded vectors:\n",
            " [[0. 0. 0. 0. 0. 1. 0. 0. 0. 0.]\n",
            " [1. 0. 0. 0. 0. 0. 0. 0. 0. 0.]\n",
            " [0. 0. 0. 0. 1. 0. 0. 0. 0. 0.]\n",
            " [0. 1. 0. 0. 0. 0. 0. 0. 0. 0.]\n",
            " [0. 0. 0. 0. 0. 0. 0. 0. 0. 1.]]\n"
          ],
          "name": "stdout"
        }
      ]
    },
    {
      "cell_type": "code",
      "metadata": {
        "id": "EmiaWfJ10JhH",
        "colab_type": "code",
        "outputId": "0a0f7b70-da56-4b52-df68-ddfb30c20453",
        "colab": {
          "base_uri": "https://localhost:8080/",
          "height": 34
        }
      },
      "source": [
        "\n",
        "y_val = y_train[54000:len(y_train)]\n",
        "y_train = y_train[0:54000]\n",
        "\n",
        "x_val = x_train[54000:len(x_train)]\n",
        "x_train = x_train[0:54000]\n",
        "\n",
        "print(len(x_train))"
      ],
      "execution_count": 0,
      "outputs": [
        {
          "output_type": "stream",
          "text": [
            "54000\n"
          ],
          "name": "stdout"
        }
      ]
    },
    {
      "cell_type": "code",
      "metadata": {
        "id": "a7rcyIlttqae",
        "colab_type": "code",
        "outputId": "fdcdbcac-83fc-48c9-acd7-098819cf92bc",
        "colab": {
          "base_uri": "https://localhost:8080/",
          "height": 289
        }
      },
      "source": [
        "from keras.layers import Dense # Dense layers are \"fully connected\" layers\n",
        "from keras.models import Sequential # Documentation: https://keras.io/models/sequential/\n",
        "\n",
        "image_size = 784 # 28*28\n",
        "num_classes = 10 # ten unique digits\n",
        "\n",
        "model = Sequential()\n",
        "\n",
        "# The input layer requires the special input_shape parameter which should match\n",
        "# the shape of our training data.\n",
        "model.add(Dense(units=1500, activation= keras.activations.sigmoid, input_shape=(image_size,)))\n",
        "model.add(Dense(units=1000, activation=keras.activations.sigmoid))\n",
        "model.add(Dense(units=500, activation=keras.activations.sigmoid))\n",
        "model.add(Dense(units=num_classes, activation=keras.activations.softmax))\n",
        "model.summary()"
      ],
      "execution_count": 0,
      "outputs": [
        {
          "output_type": "stream",
          "text": [
            "Model: \"sequential_2\"\n",
            "_________________________________________________________________\n",
            "Layer (type)                 Output Shape              Param #   \n",
            "=================================================================\n",
            "dense_7 (Dense)              (None, 1500)              1177500   \n",
            "_________________________________________________________________\n",
            "dense_8 (Dense)              (None, 1000)              1501000   \n",
            "_________________________________________________________________\n",
            "dense_9 (Dense)              (None, 500)               500500    \n",
            "_________________________________________________________________\n",
            "dense_10 (Dense)             (None, 10)                5010      \n",
            "=================================================================\n",
            "Total params: 3,184,010\n",
            "Trainable params: 3,184,010\n",
            "Non-trainable params: 0\n",
            "_________________________________________________________________\n"
          ],
          "name": "stdout"
        }
      ]
    },
    {
      "cell_type": "code",
      "metadata": {
        "id": "MwHD17SPt_IC",
        "colab_type": "code",
        "outputId": "1a303d36-b8bc-4f4b-c94d-dc2c70e62c50",
        "colab": {
          "base_uri": "https://localhost:8080/",
          "height": 714
        }
      },
      "source": [
        "model.compile(optimizer=keras.optimizers.Adadelta(), loss=keras.losses.categorical_crossentropy, metrics=['accuracy'])\n",
        "\n",
        "checkpointer = keras.callbacks.ModelCheckpoint(filepath='mnist.model.best.hdf5', \n",
        "                               verbose=1, save_best_only=True)\n",
        "model.load_weights('mnist.model.best.hdf5')\n",
        "\n",
        "history = model.fit(x_train, y_train,\n",
        "                 batch_size=10,\n",
        "                 epochs=10,\n",
        "                 callbacks=[checkpointer],\n",
        "                 verbose=1,\n",
        "                 validation_data=(x_val, y_val))"
      ],
      "execution_count": 0,
      "outputs": [
        {
          "output_type": "stream",
          "text": [
            "Train on 54000 samples, validate on 6000 samples\n",
            "Epoch 1/10\n",
            "54000/54000 [==============================] - 57s 1ms/step - loss: 0.1433 - acc: 0.9564 - val_loss: 0.1052 - val_acc: 0.9717\n",
            "\n",
            "Epoch 00001: val_loss improved from inf to 0.10524, saving model to mnist.model.best.hdf5\n",
            "Epoch 2/10\n",
            "54000/54000 [==============================] - 55s 1ms/step - loss: 0.1232 - acc: 0.9630 - val_loss: 0.1078 - val_acc: 0.9682\n",
            "\n",
            "Epoch 00002: val_loss did not improve from 0.10524\n",
            "Epoch 3/10\n",
            "54000/54000 [==============================] - 55s 1ms/step - loss: 0.1157 - acc: 0.9662 - val_loss: 0.0986 - val_acc: 0.9733\n",
            "\n",
            "Epoch 00003: val_loss improved from 0.10524 to 0.09859, saving model to mnist.model.best.hdf5\n",
            "Epoch 4/10\n",
            "54000/54000 [==============================] - 55s 1ms/step - loss: 0.1077 - acc: 0.9681 - val_loss: 0.1003 - val_acc: 0.9735\n",
            "\n",
            "Epoch 00004: val_loss did not improve from 0.09859\n",
            "Epoch 5/10\n",
            "54000/54000 [==============================] - 55s 1ms/step - loss: 0.1032 - acc: 0.9698 - val_loss: 0.0898 - val_acc: 0.9743\n",
            "\n",
            "Epoch 00005: val_loss improved from 0.09859 to 0.08978, saving model to mnist.model.best.hdf5\n",
            "Epoch 6/10\n",
            "54000/54000 [==============================] - 55s 1ms/step - loss: 0.0939 - acc: 0.9729 - val_loss: 0.0954 - val_acc: 0.9745\n",
            "\n",
            "Epoch 00006: val_loss did not improve from 0.08978\n",
            "Epoch 7/10\n",
            "54000/54000 [==============================] - 55s 1ms/step - loss: 0.0876 - acc: 0.9741 - val_loss: 0.0874 - val_acc: 0.9757\n",
            "\n",
            "Epoch 00007: val_loss improved from 0.08978 to 0.08737, saving model to mnist.model.best.hdf5\n",
            "Epoch 8/10\n",
            "54000/54000 [==============================] - 57s 1ms/step - loss: 0.0863 - acc: 0.9752 - val_loss: 0.0888 - val_acc: 0.9750\n",
            "\n",
            "Epoch 00008: val_loss did not improve from 0.08737\n",
            "Epoch 9/10\n",
            "54000/54000 [==============================] - 55s 1ms/step - loss: 0.0779 - acc: 0.9780 - val_loss: 0.1074 - val_acc: 0.9718\n",
            "\n",
            "Epoch 00009: val_loss did not improve from 0.08737\n",
            "Epoch 10/10\n",
            "54000/54000 [==============================] - 56s 1ms/step - loss: 0.0749 - acc: 0.9777 - val_loss: 0.0865 - val_acc: 0.9758\n",
            "\n",
            "Epoch 00010: val_loss improved from 0.08737 to 0.08651, saving model to mnist.model.best.hdf5\n"
          ],
          "name": "stdout"
        }
      ]
    },
    {
      "cell_type": "code",
      "metadata": {
        "id": "GxmlKzF910Ll",
        "colab_type": "code",
        "outputId": "a8928510-3c59-440b-b5a9-7fcaf8b0e581",
        "colab": {
          "base_uri": "https://localhost:8080/",
          "height": 34
        }
      },
      "source": [
        "print(model.optimizer.get_config())"
      ],
      "execution_count": 0,
      "outputs": [
        {
          "output_type": "stream",
          "text": [
            "{'lr': 1.0, 'rho': 0.95, 'decay': 0.0, 'epsilon': 1e-07}\n"
          ],
          "name": "stdout"
        }
      ]
    },
    {
      "cell_type": "code",
      "metadata": {
        "id": "uiIZkImMuj3i",
        "colab_type": "code",
        "outputId": "fea05169-31fb-4677-8798-575e544b1d12",
        "colab": {
          "base_uri": "https://localhost:8080/",
          "height": 308
        }
      },
      "source": [
        "import matplotlib.pyplot as plt\n",
        "%matplotlib inline\n",
        "import numpy as np\n",
        "f, (ax1, ax2) = plt.subplots(1, 2, figsize=(12, 4))\n",
        "t = f.suptitle('Deep MLP Performance', fontsize=12)\n",
        "f.subplots_adjust(top=0.85, wspace=0.3)\n",
        "\n",
        "max_epoch = len(history.history['acc'])+1\n",
        "epoch_list = list(range(1,max_epoch))\n",
        "ax1.plot(epoch_list, history.history['acc'], label='Train Accuracy')\n",
        "#äax1.plot(epoch_list, history.history['val_acc'], label='Validation Accuracy')\n",
        "ax1.set_xticks(np.arange(1, max_epoch, 5))\n",
        "ax1.set_ylabel('Accuracy Value')\n",
        "ax1.set_xlabel('Epoch')\n",
        "ax1.set_title('Accuracy')\n",
        "l1 = ax1.legend(loc=\"best\")\n",
        "\n",
        "ax2.plot(epoch_list, history.history['loss'], label='Train Loss')\n",
        "#ax2.plot(epoch_list, history.history['val_loss'], label='Validation Loss')\n",
        "ax2.set_xticks(np.arange(1, max_epoch, 5))\n",
        "ax2.set_ylabel('Loss Value')\n",
        "ax2.set_xlabel('Epoch')\n",
        "ax2.set_title('Loss')\n",
        "l2 = ax2.legend(loc=\"best\")"
      ],
      "execution_count": 0,
      "outputs": [
        {
          "output_type": "display_data",
          "data": {
            "image/png": "[encoded data removed]",
            "text/plain": [
              "<Figure size 864x288 with 2 Axes>"
            ]
          },
          "metadata": {
            "tags": []
          }
        }
      ]
    },
    {
      "cell_type": "code",
      "metadata": {
        "id": "mTSLkNkAt_Ko",
        "colab_type": "code",
        "colab": {}
      },
      "source": [
        "model.load_weights('mnist.model.best.hdf5')\n",
        "model.evaluate(x_test, y_test, verbose=True)\n"
      ],
      "execution_count": 0,
      "outputs": []
    },
    {
      "cell_type": "code",
      "metadata": {
        "id": "qTUmsBr4H0tU",
        "colab_type": "code",
        "colab": {}
      },
      "source": [
        "import keras.backend as K\n",
        "print(K.eval(model.optimizer.lr))"
      ],
      "execution_count": 0,
      "outputs": []
    },
    {
      "cell_type": "code",
      "metadata": {
        "id": "FRa-XsloNtPN",
        "colab_type": "code",
        "colab": {}
      },
      "source": [
        "model.save_weights(\"model.h5\")"
      ],
      "execution_count": 0,
      "outputs": []
    },
    {
      "cell_type": "code",
      "metadata": {
        "id": "EuZXOAGAN9yI",
        "colab_type": "code",
        "colab": {}
      },
      "source": [
        "import numpy as np\n",
        "weight = model.get_weights()\n",
        "np.savetxt('weight.csv' , weight , fmt='%s', delimiter=',')"
      ],
      "execution_count": 0,
      "outputs": []
    },
    {
      "cell_type": "code",
      "metadata": {
        "id": "iJzBZjLUQltu",
        "colab_type": "code",
        "colab": {}
      },
      "source": [
        "weight = model.layers[1].get_weights()\n",
        "print(weight)"
      ],
      "execution_count": 0,
      "outputs": []
    },
    {
      "cell_type": "code",
      "metadata": {
        "id": "vuQn7o1SN4Rc",
        "colab_type": "code",
        "colab": {}
      },
      "source": [
        "from google.colab import files\n",
        "#files.download('weight.csv')"
      ],
      "execution_count": 0,
      "outputs": []
    }
  ]
}