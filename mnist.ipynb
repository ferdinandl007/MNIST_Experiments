{
  "nbformat": 4,
  "nbformat_minor": 0,
  "metadata": {
    "kernelspec": {
      "name": "python3",
      "display_name": "Python 3"
    },
    "language_info": {
      "codemirror_mode": {
        "name": "ipython",
        "version": 3
      },
      "file_extension": ".py",
      "mimetype": "text/x-python",
      "name": "python",
      "nbconvert_exporter": "python",
      "pygments_lexer": "ipython3",
      "version": "3.6.4"
    },
    "colab": {
      "name": "mnist.ipynb",
      "provenance": [],
      "collapsed_sections": [],
      "include_colab_link": true
    },
    "accelerator": "GPU"
  },
  "cells": [
    {
      "cell_type": "markdown",
      "metadata": {
        "id": "view-in-github",
        "colab_type": "text"
      },
      "source": [
        "<a href=\"https://colab.research.google.com/github/ferdinandl007/MNIST_Experiments/blob/master/mnist.ipynb\" target=\"_parent\"><img src=\"https://colab.research.google.com/assets/colab-badge.svg\" alt=\"Open In Colab\"/></a>"
      ]
    },
    {
      "cell_type": "markdown",
      "metadata": {
        "id": "6qGHhtS9SuH-",
        "colab_type": "text"
      },
      "source": [
        "### 1. Load MNIST Database"
      ]
    },
    {
      "cell_type": "code",
      "metadata": {
        "id": "JOHJAMuiSuIA",
        "colab_type": "code",
        "colab": {}
      },
      "source": [
        "import keras\n",
        "from keras.datasets import mnist\n",
        "\n",
        "\n",
        "(X_train, y_train), (X_test, y_test) = mnist.load_data()\n",
        "\n",
        "print(\"The MNIST database has a training set of %d examples.\" % len(X_train))\n",
        "print(\"The MNIST database has a test set of %d examples.\" % len(X_test))"
      ],
      "execution_count": 0,
      "outputs": []
    },
    {
      "cell_type": "markdown",
      "metadata": {
        "id": "RH7jtUyrSuIS",
        "colab_type": "text"
      },
      "source": [
        "### 2. Rescale the Images by Dividing Every Pixel in Every Image by 255"
      ]
    },
    {
      "cell_type": "code",
      "metadata": {
        "id": "bDT_wkLWSuIS",
        "colab_type": "code",
        "colab": {}
      },
      "source": [
        "from keras import backend as K\n",
        "\n",
        "# input image dimensions\n",
        "img_rows, img_cols = 28, 28\n",
        "\n",
        "if K.image_data_format() == 'channels_first':\n",
        "    X_train = X_train.reshape(X_train.shape[0], 1, img_rows, img_cols)\n",
        "    X_test = X_test.reshape(X_test.shape[0], 1, img_rows, img_cols)\n",
        "    input_shape = (1, img_rows, img_cols)\n",
        "else:\n",
        "    X_train = X_train.reshape(X_train.shape[0], img_rows, img_cols, 1)\n",
        "    X_test = X_test.reshape(X_test.shape[0], img_rows, img_cols, 1)\n",
        "    input_shape = (img_rows, img_cols, 1)\n",
        "\n",
        "# rescale [0,255] --> [0,1]\n",
        "X_train = X_train.astype('float32')/255\n",
        "X_test = X_test.astype('float32')/255"
      ],
      "execution_count": 0,
      "outputs": []
    },
    {
      "cell_type": "markdown",
      "metadata": {
        "id": "pOS5Cmc9SuIV",
        "colab_type": "text"
      },
      "source": [
        "### 3. Encode Categorical Integer Labels Using a One-Hot Scheme"
      ]
    },
    {
      "cell_type": "code",
      "metadata": {
        "id": "pU8EFgVtSuIW",
        "colab_type": "code",
        "outputId": "c000d734-7dbe-4800-c684-336db144476f",
        "colab": {
          "base_uri": "https://localhost:8080/",
          "height": 238
        }
      },
      "source": [
        "from keras.utils import np_utils\n",
        "\n",
        "num_classes = 10\n",
        "\n",
        "\n",
        "print('Integer-valued labels:')\n",
        "print(y_train[:num_classes])\n",
        "\n",
        "\n",
        "y_train = np_utils.to_categorical(y_train, num_classes)\n",
        "y_test = np_utils.to_categorical(y_test, num_classes)\n",
        "\n",
        "\n",
        "print('One-hot labels:')\n",
        "print(y_train[:num_classes])"
      ],
      "execution_count": 0,
      "outputs": [
        {
          "output_type": "stream",
          "text": [
            "Integer-valued labels:\n",
            "[5 0 4 1 9 2 1 3 1 4]\n",
            "One-hot labels:\n",
            "[[0. 0. 0. 0. 0. 1. 0. 0. 0. 0.]\n",
            " [1. 0. 0. 0. 0. 0. 0. 0. 0. 0.]\n",
            " [0. 0. 0. 0. 1. 0. 0. 0. 0. 0.]\n",
            " [0. 1. 0. 0. 0. 0. 0. 0. 0. 0.]\n",
            " [0. 0. 0. 0. 0. 0. 0. 0. 0. 1.]\n",
            " [0. 0. 1. 0. 0. 0. 0. 0. 0. 0.]\n",
            " [0. 1. 0. 0. 0. 0. 0. 0. 0. 0.]\n",
            " [0. 0. 0. 1. 0. 0. 0. 0. 0. 0.]\n",
            " [0. 1. 0. 0. 0. 0. 0. 0. 0. 0.]\n",
            " [0. 0. 0. 0. 1. 0. 0. 0. 0. 0.]]\n"
          ],
          "name": "stdout"
        }
      ]
    },
    {
      "cell_type": "markdown",
      "metadata": {
        "id": "08wtn5ABrc2p",
        "colab_type": "text"
      },
      "source": [
        "### 4. Split out validation data\n"
      ]
    },
    {
      "cell_type": "code",
      "metadata": {
        "id": "fv6QHq4QoU1C",
        "colab_type": "code",
        "outputId": "25f7b3be-31fd-4e21-cb86-d8ea6d3b80e0",
        "colab": {
          "base_uri": "https://localhost:8080/",
          "height": 34
        }
      },
      "source": [
        "\n",
        "y_val = y_train[54000:len(y_train)]\n",
        "y_train = y_train[0:54000]\n",
        "\n",
        "x_val = X_train[54000:len(X_train)]\n",
        "X_train = X_train[0:54000]\n",
        "\n",
        "print(len(X_train))\n"
      ],
      "execution_count": 0,
      "outputs": [
        {
          "output_type": "stream",
          "text": [
            "54000\n"
          ],
          "name": "stdout"
        }
      ]
    },
    {
      "cell_type": "markdown",
      "metadata": {
        "id": "OuH7zRrVSuIY",
        "colab_type": "text"
      },
      "source": [
        "### 5. Define the Model Architecture"
      ]
    },
    {
      "cell_type": "code",
      "metadata": {
        "id": "OnfUsqixSuIY",
        "colab_type": "code",
        "outputId": "7ee0ec25-91aa-49e2-9880-f039c4087e0f",
        "colab": {
          "base_uri": "https://localhost:8080/",
          "height": 768
        }
      },
      "source": [
        "from keras.models import Sequential\n",
        "from keras.layers import Dense, Dropout, Flatten\n",
        "from keras.layers import Conv2D, MaxPooling2D\n",
        "\n",
        "\n",
        "model = Sequential()\n",
        "\n",
        "model.add(Conv2D(32, kernel_size=(3, 3), padding='same', activation='relu', input_shape=input_shape))\n",
        "model.add(MaxPooling2D(pool_size=2))\n",
        "model.add(Conv2D(filters=32, kernel_size=2, padding='same', activation='relu'))\n",
        "model.add(MaxPooling2D(pool_size=(2, 2)))\n",
        "model.add(Conv2D(filters=32, kernel_size=2, padding='same', activation='relu'))\n",
        "model.add(MaxPooling2D(pool_size=(2, 2)))\n",
        "model.add(Dropout(0.3))\n",
        "model.add(Flatten())\n",
        "model.add(Dense(500, activation='relu'))\n",
        "model.add(Dropout(0.4))\n",
        "model.add(Dense(num_classes, activation='softmax'))\n",
        "\n",
        "model.summary()"
      ],
      "execution_count": 0,
      "outputs": [
        {
          "output_type": "stream",
          "text": [
            "WARNING:tensorflow:From /usr/local/lib/python3.6/dist-packages/keras/backend/tensorflow_backend.py:66: The name tf.get_default_graph is deprecated. Please use tf.compat.v1.get_default_graph instead.\n",
            "\n",
            "WARNING:tensorflow:From /usr/local/lib/python3.6/dist-packages/keras/backend/tensorflow_backend.py:541: The name tf.placeholder is deprecated. Please use tf.compat.v1.placeholder instead.\n",
            "\n",
            "WARNING:tensorflow:From /usr/local/lib/python3.6/dist-packages/keras/backend/tensorflow_backend.py:4432: The name tf.random_uniform is deprecated. Please use tf.random.uniform instead.\n",
            "\n",
            "WARNING:tensorflow:From /usr/local/lib/python3.6/dist-packages/keras/backend/tensorflow_backend.py:4267: The name tf.nn.max_pool is deprecated. Please use tf.nn.max_pool2d instead.\n",
            "\n",
            "WARNING:tensorflow:From /usr/local/lib/python3.6/dist-packages/keras/backend/tensorflow_backend.py:148: The name tf.placeholder_with_default is deprecated. Please use tf.compat.v1.placeholder_with_default instead.\n",
            "\n",
            "WARNING:tensorflow:From /usr/local/lib/python3.6/dist-packages/keras/backend/tensorflow_backend.py:3733: calling dropout (from tensorflow.python.ops.nn_ops) with keep_prob is deprecated and will be removed in a future version.\n",
            "Instructions for updating:\n",
            "Please use `rate` instead of `keep_prob`. Rate should be set to `rate = 1 - keep_prob`.\n",
            "Model: \"sequential_1\"\n",
            "_________________________________________________________________\n",
            "Layer (type)                 Output Shape              Param #   \n",
            "=================================================================\n",
            "conv2d_1 (Conv2D)            (None, 28, 28, 32)        320       \n",
            "_________________________________________________________________\n",
            "max_pooling2d_1 (MaxPooling2 (None, 14, 14, 32)        0         \n",
            "_________________________________________________________________\n",
            "conv2d_2 (Conv2D)            (None, 14, 14, 32)        4128      \n",
            "_________________________________________________________________\n",
            "max_pooling2d_2 (MaxPooling2 (None, 7, 7, 32)          0         \n",
            "_________________________________________________________________\n",
            "conv2d_3 (Conv2D)            (None, 7, 7, 32)          4128      \n",
            "_________________________________________________________________\n",
            "max_pooling2d_3 (MaxPooling2 (None, 3, 3, 32)          0         \n",
            "_________________________________________________________________\n",
            "dropout_1 (Dropout)          (None, 3, 3, 32)          0         \n",
            "_________________________________________________________________\n",
            "flatten_1 (Flatten)          (None, 288)               0         \n",
            "_________________________________________________________________\n",
            "dense_1 (Dense)              (None, 500)               144500    \n",
            "_________________________________________________________________\n",
            "dropout_2 (Dropout)          (None, 500)               0         \n",
            "_________________________________________________________________\n",
            "dense_2 (Dense)              (None, 10)                5010      \n",
            "=================================================================\n",
            "Total params: 158,086\n",
            "Trainable params: 158,086\n",
            "Non-trainable params: 0\n",
            "_________________________________________________________________\n"
          ],
          "name": "stdout"
        }
      ]
    },
    {
      "cell_type": "markdown",
      "metadata": {
        "id": "AqmXghkFSuIc",
        "colab_type": "text"
      },
      "source": [
        "### 6. Compile the Model"
      ]
    },
    {
      "cell_type": "code",
      "metadata": {
        "id": "JF2sdOaqSuId",
        "colab_type": "code",
        "outputId": "703e2bf7-dca2-4e4e-bf3d-c08ee40a8786",
        "colab": {
          "base_uri": "https://localhost:8080/",
          "height": 85
        }
      },
      "source": [
        "model.compile(loss=keras.losses.categorical_crossentropy,\n",
        "              optimizer=keras.optimizers.Adadelta(),\n",
        "              metrics=['accuracy'])"
      ],
      "execution_count": 0,
      "outputs": [
        {
          "output_type": "stream",
          "text": [
            "WARNING:tensorflow:From /usr/local/lib/python3.6/dist-packages/keras/optimizers.py:793: The name tf.train.Optimizer is deprecated. Please use tf.compat.v1.train.Optimizer instead.\n",
            "\n",
            "WARNING:tensorflow:From /usr/local/lib/python3.6/dist-packages/keras/backend/tensorflow_backend.py:3576: The name tf.log is deprecated. Please use tf.math.log instead.\n",
            "\n"
          ],
          "name": "stdout"
        }
      ]
    },
    {
      "cell_type": "markdown",
      "metadata": {
        "id": "_awZPL3ZSuIe",
        "colab_type": "text"
      },
      "source": [
        "### 7. Calculate the Classification Accuracy on the Test Set (Before Training)"
      ]
    },
    {
      "cell_type": "code",
      "metadata": {
        "id": "XolUwAz6SuIf",
        "colab_type": "code",
        "outputId": "7de099dd-6aaa-446e-d9d9-972db28e0a77",
        "colab": {
          "base_uri": "https://localhost:8080/",
          "height": 258
        }
      },
      "source": [
        "# evaluate test accuracy\n",
        "score = model.evaluate(X_test, y_test, verbose=0)\n",
        "accuracy = 100*score[1]\n",
        "\n",
        "# print test accuracy\n",
        "print('Test accuracy: %.4f%%' % accuracy)"
      ],
      "execution_count": 0,
      "outputs": [
        {
          "output_type": "stream",
          "text": [
            "WARNING:tensorflow:From /usr/local/lib/python3.6/dist-packages/keras/backend/tensorflow_backend.py:3005: The name tf.Session is deprecated. Please use tf.compat.v1.Session instead.\n",
            "\n",
            "WARNING:tensorflow:From /usr/local/lib/python3.6/dist-packages/keras/backend/tensorflow_backend.py:190: The name tf.get_default_session is deprecated. Please use tf.compat.v1.get_default_session instead.\n",
            "\n",
            "WARNING:tensorflow:From /usr/local/lib/python3.6/dist-packages/keras/backend/tensorflow_backend.py:197: The name tf.ConfigProto is deprecated. Please use tf.compat.v1.ConfigProto instead.\n",
            "\n",
            "WARNING:tensorflow:From /usr/local/lib/python3.6/dist-packages/keras/backend/tensorflow_backend.py:207: The name tf.global_variables is deprecated. Please use tf.compat.v1.global_variables instead.\n",
            "\n",
            "WARNING:tensorflow:From /usr/local/lib/python3.6/dist-packages/keras/backend/tensorflow_backend.py:216: The name tf.is_variable_initialized is deprecated. Please use tf.compat.v1.is_variable_initialized instead.\n",
            "\n",
            "WARNING:tensorflow:From /usr/local/lib/python3.6/dist-packages/keras/backend/tensorflow_backend.py:223: The name tf.variables_initializer is deprecated. Please use tf.compat.v1.variables_initializer instead.\n",
            "\n",
            "Test accuracy: 11.8300%\n"
          ],
          "name": "stdout"
        }
      ]
    },
    {
      "cell_type": "markdown",
      "metadata": {
        "id": "9NIjkntCSuIh",
        "colab_type": "text"
      },
      "source": [
        "### 8. Train the Model"
      ]
    },
    {
      "cell_type": "code",
      "metadata": {
        "id": "3IZjJDKQSuIh",
        "colab_type": "code",
        "outputId": "5f2b4305-acff-4f12-ce83-8cbe04a4fb65",
        "colab": {
          "base_uri": "https://localhost:8080/",
          "height": 1000
        }
      },
      "source": [
        "from keras.callbacks import ModelCheckpoint, ReduceLROnPlateau\n",
        "import datetime\n",
        "\n",
        "batch_size = 225\n",
        "epochs = 20\n",
        "\n",
        "# train the model\n",
        "checkpointer = ModelCheckpoint(filepath='mnist.model.best.hdf5', \n",
        "                               verbose=2, save_best_only=True)\n",
        "reduce_lr = ReduceLROnPlateau(monitor='val_loss', factor=0.5,\n",
        "                              patience=2, min_lr=0.000001)\n",
        "\n",
        "\n",
        "\n",
        "\n",
        "#model.load_weights('mnist.model.best.hdf5')\n",
        "\n",
        "history = model.fit(X_train, y_train,\n",
        "                 batch_size=batch_size,\n",
        "                 epochs=epochs,\n",
        "                 callbacks=[checkpointer,reduce_lr],\n",
        "                 verbose=1,\n",
        "                 validation_data=(x_val, y_val))"
      ],
      "execution_count": 0,
      "outputs": [
        {
          "output_type": "stream",
          "text": [
            "WARNING:tensorflow:From /usr/local/lib/python3.6/dist-packages/tensorflow_core/python/ops/math_grad.py:1424: where (from tensorflow.python.ops.array_ops) is deprecated and will be removed in a future version.\n",
            "Instructions for updating:\n",
            "Use tf.where in 2.0, which has the same broadcast rule as np.where\n",
            "WARNING:tensorflow:From /usr/local/lib/python3.6/dist-packages/keras/backend/tensorflow_backend.py:1033: The name tf.assign_add is deprecated. Please use tf.compat.v1.assign_add instead.\n",
            "\n",
            "WARNING:tensorflow:From /usr/local/lib/python3.6/dist-packages/keras/backend/tensorflow_backend.py:1020: The name tf.assign is deprecated. Please use tf.compat.v1.assign instead.\n",
            "\n",
            "Train on 54000 samples, validate on 6000 samples\n",
            "Epoch 1/20\n",
            "54000/54000 [==============================] - 3s 49us/step - loss: 0.5500 - acc: 0.8186 - val_loss: 0.0895 - val_acc: 0.9760\n",
            "\n",
            "Epoch 00001: val_loss improved from inf to 0.08945, saving model to mnist.model.best.hdf5\n",
            "Epoch 2/20\n",
            "54000/54000 [==============================] - 2s 39us/step - loss: 0.1466 - acc: 0.9545 - val_loss: 0.0554 - val_acc: 0.9838\n",
            "\n",
            "Epoch 00002: val_loss improved from 0.08945 to 0.05537, saving model to mnist.model.best.hdf5\n",
            "Epoch 3/20\n",
            "54000/54000 [==============================] - 2s 40us/step - loss: 0.1101 - acc: 0.9644 - val_loss: 0.0538 - val_acc: 0.9837\n",
            "\n",
            "Epoch 00003: val_loss improved from 0.05537 to 0.05383, saving model to mnist.model.best.hdf5\n",
            "Epoch 4/20\n",
            "54000/54000 [==============================] - 2s 41us/step - loss: 0.0905 - acc: 0.9717 - val_loss: 0.0408 - val_acc: 0.9893\n",
            "\n",
            "Epoch 00004: val_loss improved from 0.05383 to 0.04076, saving model to mnist.model.best.hdf5\n",
            "Epoch 5/20\n",
            "54000/54000 [==============================] - 2s 41us/step - loss: 0.0831 - acc: 0.9734 - val_loss: 0.0396 - val_acc: 0.9898\n",
            "\n",
            "Epoch 00005: val_loss improved from 0.04076 to 0.03964, saving model to mnist.model.best.hdf5\n",
            "Epoch 6/20\n",
            "54000/54000 [==============================] - 2s 41us/step - loss: 0.0718 - acc: 0.9770 - val_loss: 0.0404 - val_acc: 0.9882\n",
            "\n",
            "Epoch 00006: val_loss did not improve from 0.03964\n",
            "Epoch 7/20\n",
            "54000/54000 [==============================] - 2s 41us/step - loss: 0.0660 - acc: 0.9789 - val_loss: 0.0341 - val_acc: 0.9898\n",
            "\n",
            "Epoch 00007: val_loss improved from 0.03964 to 0.03412, saving model to mnist.model.best.hdf5\n",
            "Epoch 8/20\n",
            "54000/54000 [==============================] - 2s 41us/step - loss: 0.0610 - acc: 0.9797 - val_loss: 0.0310 - val_acc: 0.9912\n",
            "\n",
            "Epoch 00008: val_loss improved from 0.03412 to 0.03096, saving model to mnist.model.best.hdf5\n",
            "Epoch 9/20\n",
            "54000/54000 [==============================] - 2s 41us/step - loss: 0.0580 - acc: 0.9820 - val_loss: 0.0303 - val_acc: 0.9902\n",
            "\n",
            "Epoch 00009: val_loss improved from 0.03096 to 0.03028, saving model to mnist.model.best.hdf5\n",
            "Epoch 10/20\n",
            "54000/54000 [==============================] - 2s 38us/step - loss: 0.0536 - acc: 0.9823 - val_loss: 0.0288 - val_acc: 0.9912\n",
            "\n",
            "Epoch 00010: val_loss improved from 0.03028 to 0.02877, saving model to mnist.model.best.hdf5\n",
            "Epoch 11/20\n",
            "54000/54000 [==============================] - 2s 39us/step - loss: 0.0521 - acc: 0.9833 - val_loss: 0.0273 - val_acc: 0.9913\n",
            "\n",
            "Epoch 00011: val_loss improved from 0.02877 to 0.02732, saving model to mnist.model.best.hdf5\n",
            "Epoch 12/20\n",
            "54000/54000 [==============================] - 2s 41us/step - loss: 0.0475 - acc: 0.9849 - val_loss: 0.0263 - val_acc: 0.9917\n",
            "\n",
            "Epoch 00012: val_loss improved from 0.02732 to 0.02634, saving model to mnist.model.best.hdf5\n",
            "Epoch 13/20\n",
            "54000/54000 [==============================] - 2s 41us/step - loss: 0.0465 - acc: 0.9845 - val_loss: 0.0318 - val_acc: 0.9897\n",
            "\n",
            "Epoch 00013: val_loss did not improve from 0.02634\n",
            "Epoch 14/20\n",
            "54000/54000 [==============================] - 2s 40us/step - loss: 0.0441 - acc: 0.9862 - val_loss: 0.0275 - val_acc: 0.9917\n",
            "\n",
            "Epoch 00014: val_loss did not improve from 0.02634\n",
            "Epoch 15/20\n",
            "54000/54000 [==============================] - 2s 41us/step - loss: 0.0391 - acc: 0.9873 - val_loss: 0.0248 - val_acc: 0.9923\n",
            "\n",
            "Epoch 00015: val_loss improved from 0.02634 to 0.02485, saving model to mnist.model.best.hdf5\n",
            "Epoch 16/20\n",
            "54000/54000 [==============================] - 2s 42us/step - loss: 0.0374 - acc: 0.9876 - val_loss: 0.0254 - val_acc: 0.9918\n",
            "\n",
            "Epoch 00016: val_loss did not improve from 0.02485\n",
            "Epoch 17/20\n",
            "54000/54000 [==============================] - 2s 41us/step - loss: 0.0352 - acc: 0.9885 - val_loss: 0.0246 - val_acc: 0.9927\n",
            "\n",
            "Epoch 00017: val_loss improved from 0.02485 to 0.02461, saving model to mnist.model.best.hdf5\n",
            "Epoch 18/20\n",
            "54000/54000 [==============================] - 2s 39us/step - loss: 0.0360 - acc: 0.9884 - val_loss: 0.0254 - val_acc: 0.9932\n",
            "\n",
            "Epoch 00018: val_loss did not improve from 0.02461\n",
            "Epoch 19/20\n",
            "54000/54000 [==============================] - 2s 39us/step - loss: 0.0339 - acc: 0.9889 - val_loss: 0.0237 - val_acc: 0.9932\n",
            "\n",
            "Epoch 00019: val_loss improved from 0.02461 to 0.02371, saving model to mnist.model.best.hdf5\n",
            "Epoch 20/20\n",
            "54000/54000 [==============================] - 2s 42us/step - loss: 0.0341 - acc: 0.9889 - val_loss: 0.0237 - val_acc: 0.9933\n",
            "\n",
            "Epoch 00020: val_loss did not improve from 0.02371\n"
          ],
          "name": "stdout"
        }
      ]
    },
    {
      "cell_type": "code",
      "metadata": {
        "id": "3zb2mA9HuGwT",
        "colab_type": "code",
        "outputId": "926a4a64-4ccc-4d05-ff5c-21ca9f21a98a",
        "colab": {
          "base_uri": "https://localhost:8080/",
          "height": 308
        }
      },
      "source": [
        "import matplotlib.pyplot as plt\n",
        "%matplotlib inline\n",
        "import numpy as np\n",
        "f, (ax1, ax2) = plt.subplots(1, 2, figsize=(12, 4))\n",
        "t = f.suptitle('Basic CNN Performance', fontsize=12)\n",
        "f.subplots_adjust(top=0.85, wspace=0.3)\n",
        "\n",
        "max_epoch = len(history.history['acc'])+1\n",
        "epoch_list = list(range(1,max_epoch))\n",
        "ax1.plot(epoch_list, history.history['acc'], label='alidation Accuracy')\n",
        "ax1.plot(epoch_list, history.history['val_acc'], label='Train Accuracy')\n",
        "ax1.set_xticks(np.arange(1, max_epoch, 5))\n",
        "ax1.set_ylabel('Accuracy Value')\n",
        "ax1.set_xlabel('Epoch')\n",
        "ax1.set_title('Accuracy')\n",
        "l1 = ax1.legend(loc=\"best\")\n",
        "\n",
        "ax2.plot(epoch_list, history.history['loss'], label='Train Loss')\n",
        "ax2.plot(epoch_list, history.history['val_loss'], label='Validation Loss')\n",
        "ax2.set_xticks(np.arange(1, max_epoch, 5))\n",
        "ax2.set_ylabel('Loss Value')\n",
        "ax2.set_xlabel('Epoch')\n",
        "ax2.set_title('Loss')\n",
        "l2 = ax2.legend(loc=\"best\")"
      ],
      "execution_count": 0,
      "outputs": [
        {
          "output_type": "display_data",
          "data": {
            "image/png": "[encoded data removed]",
            "text/plain": [
              "<Figure size 864x288 with 2 Axes>"
            ]
          },
          "metadata": {
            "tags": []
          }
        }
      ]
    },
    {
      "cell_type": "markdown",
      "metadata": {
        "id": "Cw0t4LcRSuIi",
        "colab_type": "text"
      },
      "source": [
        "### 9. Load the Model with the Best Classification Accuracy on the Validation Set"
      ]
    },
    {
      "cell_type": "code",
      "metadata": {
        "id": "uDi8dKL_SuIj",
        "colab_type": "code",
        "colab": {}
      },
      "source": [
        "# load the weights that yielded the best validation accuracy\n",
        "model.load_weights('mnist.model.best.hdf5')"
      ],
      "execution_count": 0,
      "outputs": []
    },
    {
      "cell_type": "markdown",
      "metadata": {
        "id": "W-uv0tadSuIk",
        "colab_type": "text"
      },
      "source": [
        "### 10. Calculate the Classification Accuracy on the Test Set"
      ]
    },
    {
      "cell_type": "code",
      "metadata": {
        "id": "p3-oBj6DSuIk",
        "colab_type": "code",
        "colab": {}
      },
      "source": [
        "# evaluate test accuracy\n",
        "score = model.evaluate(X_test, y_test, verbose=1)\n",
        "accuracy = 100*score[1]\n",
        "\n",
        "print(score)\n",
        "print(model.metrics_names)\n",
        "\n",
        "\n",
        "# print test accuracy\n",
        "print('Test accuracy: %.4f%%' % accuracy)\n",
        "print('Error: %.4f%%' % (100 - (score[1] * 100)))"
      ],
      "execution_count": 0,
      "outputs": []
    },
    {
      "cell_type": "code",
      "metadata": {
        "id": "eicBWGjPdvV0",
        "colab_type": "code",
        "colab": {}
      },
      "source": [
        "from google.colab import files\n",
        "files.download('mnist.model.best.hdf5')"
      ],
      "execution_count": 0,
      "outputs": []
    }
  ]
}